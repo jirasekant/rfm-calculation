{
 "cells": [
  {
   "cell_type": "markdown",
   "id": "8a77807f92f26ee",
   "metadata": {},
   "source": [
    "# RFM Analýza a segmentace zákazníků\n",
    "### Antonín Jirásek, Tomáš Ibl, Adam Rohr\n",
    "RFM analýza a segmentace zákazníků představují klíčové nástroje v oblasti marketingu a řízení vztahů se zákazníky, které umožňují hlubší porozumění zákaznickému chování a přispívají k optimalizaci obchodních strategií. Tato práce se zabývá implementací RFM analýzy s využitím dostupných dat o transakcích, zákaznících a marketingových kampaních. Následně je využita metoda KMeans pro shlukovou analýzu, která rozděluje zákazníky do homogenních skupin na základě jejich nákupních vzorců a demografických charakteristik.\n",
    "\n",
    "Cílem této analýzy je identifikovat klíčové segmenty zákazníků, pochopit jejich chování a navrhnout personalizované strategie pro zlepšení jejich zapojení a udržení. Práce se zaměřuje nejen na analytický proces, ale také na interpretaci výsledků a formulaci doporučení, která mohou být využita k zefektivnění marketingových a obchodních aktivit.\n",
    "\n",
    "Analýza je provedena v několika krocích, včetně přípravy dat, výpočtu RFM hodnot, aplikace shlukové analýzy a interpretace vytvořených klastrů. Výsledky umožňují identifikaci klíčových demografických a behaviorálních vzorců, které jsou následně využity k návrhu konkrétních marketingových strategií.\n"
   ]
  },
  {
   "cell_type": "markdown",
   "source": [
    "## Načtení knihoven"
   ],
   "metadata": {
    "collapsed": false
   },
   "id": "4e0a2bbba80a7502"
  },
  {
   "cell_type": "code",
   "execution_count": 23,
   "id": "fbc121e30a2defb3",
   "metadata": {
    "jupyter": {
     "is_executing": true
    }
   },
   "outputs": [],
   "source": [
    "import pandas as pd\n",
    "from sklearn.cluster import KMeans\n",
    "from sklearn.preprocessing import StandardScaler"
   ]
  },
  {
   "cell_type": "markdown",
   "id": "b35ef2ef4da64eb9",
   "metadata": {},
   "source": [
    "## Načtení dat"
   ]
  },
  {
   "cell_type": "code",
   "execution_count": 24,
   "id": "e775aa2afdc799dd",
   "metadata": {
    "ExecuteTime": {
     "end_time": "2024-12-03T15:11:55.378768Z",
     "start_time": "2024-12-03T15:11:55.300027Z"
    }
   },
   "outputs": [
    {
     "name": "stdout",
     "output_type": "stream",
     "text": [
      "Transactions Data:\n",
      "        CardID      Date  Amount\n",
      "0  C0100000199  20010820  229.00\n",
      "1  C0100000199  20010628  139.00\n",
      "2  C0100000199  20011229  229.00\n",
      "3  C0100000343  20010727   49.00\n",
      "4  C0100000343  20010202  169.99\n",
      "\n",
      "Customers Data:\n",
      "        CardID MaritalStatus  NumChildren       LoS   HHIncomeMed\n",
      "0  C0100000199             S            4  1.156164  71079.744865\n",
      "1  C0100000343           NaN            1  3.002740  79424.115726\n",
      "2  C0100000375             S            0  0.068493  41878.414258\n",
      "3  C0100000482             S            1  1.356164  62924.588763\n",
      "4  C0100000689             M            3  2.484932  46616.718039\n",
      "\n",
      "Campaign Data:\n",
      "        CardID Responded\n",
      "0  C0100000199         F\n",
      "1  C0100000343         F\n",
      "2  C0100000375         F\n",
      "3  C0100000482         F\n",
      "4  C0100000689         F\n"
     ]
    }
   ],
   "source": [
    "transactions = pd.read_csv('data/transactions.csv')\n",
    "customers = pd.read_csv('data/customers.csv')\n",
    "campaign = pd.read_csv('data/campaign.csv')\n",
    "\n",
    "# Preview the data\n",
    "print(\"Transactions Data:\")\n",
    "print(transactions.head())\n",
    "print(\"\\nCustomers Data:\")\n",
    "print(customers.head())\n",
    "print(\"\\nCampaign Data:\")\n",
    "print(campaign.head())\n",
    "\n"
   ]
  },
  {
   "cell_type": "markdown",
   "source": [
    "### Porozumění datům\n",
    "\n",
    "Pro realizaci RFM analýzy a segmentace zákazníků byla využita data ze tří hlavních zdrojů: transakční data, demografické údaje zákazníků a informace o marketingových kampaních. Pro sestavení této analýzy jsme se soustředili na transakční data a demografické údaje zákazníků. Následuje detailní popis jednotlivých datových sad a jejich klíčových atributů:\n",
    "\n",
    "#### 1. **Transakční data**\n",
    "Transakční data obsahují informace o jednotlivých nákupech zákazníků. Hlavní atributy v této datové sadě zahrnují:\n",
    "- **CardID**: Jedinečný identifikátor zákazníka.\n",
    "- **Date**: Datum transakce ve formátu YYYYMMDD.\n",
    "- **Amount**: Celková částka za transakci.\n",
    "\n",
    "Tato data umožňují výpočet klíčových metrik RFM: recency (doba od posledního nákupu), frequency (počet nákupů) a monetary (celková utracená částka).\n",
    "\n",
    "#### 2. **Demografická data zákazníků**\n",
    "Demografická data poskytují přehled o socioekonomických charakteristikách jednotlivých zákazníků. Mezi nejdůležitější atributy patří:\n",
    "- **MaritalStatus**: Rodinný stav (např. svobodný, ženatý/vdaná).\n",
    "- **NumChildren**: Počet dětí v domácnosti.\n",
    "- **LoS (Length of Stay)**: Délka spolupráce zákazníka s firmou v letech.\n",
    "- **HHIncomeMed**: Mediánový příjem domácnosti.\n",
    "\n",
    "Tyto informace jsou klíčové pro lepší pochopení demografického složení zákaznické základny a pro návrh cílených marketingových strategií.\n",
    "\n",
    "#### 3. **Data o marketingových kampaních**\n",
    "Tento datový soubor zaznamenává reakce zákazníků na konkrétní marketingové kampaně. Hlavní atributy zahrnují:\n",
    "- **CardID**: Jedinečný identifikátor zákazníka.\n",
    "- **Responded**: Indikátor odpovědi zákazníka na kampaň (např. \"F\" pro neodpověď, \"T\" pro pozitivní odpověď).\n",
    "\n",
    "Tyto informace poskytují důležité poznatky o tom, jak zákazníci reagují na různé marketingové aktivity, což pomáhá optimalizovat budoucí kampaně.\n",
    "\n",
    "### Přehled zpracování dat\n",
    "Před samotnou analýzou bylo potřeba ošetřit:\n",
    "- Zpracování chybějících hodnot nebylo nutné, vzhledem k tomu že všechny data jsou kompletní\n",
    "- Převod data do standardního formátu a výpočet atributu **Recency** na základě nejaktuálnějšího data transakce.\n",
    "- Spojení datových sad na základě atributu **CardID**.\n",
    "\n",
    "Tímto postupem byla vytvořena integrovaná datová základna, která posloužila jako vstupní bod pro další analýzu. Konečný datový soubor zahrnuje jak transakční informace, tak demografické a marketingové charakteristiky, čímž umožňuje komplexní pohled na zákaznické chování a jeho segmentaci.\n"
   ],
   "metadata": {
    "collapsed": false
   },
   "id": "9f6cbb7727d0ed96"
  },
  {
   "cell_type": "markdown",
   "id": "816b967cd169702a",
   "metadata": {},
   "source": [
    "## Výpočet RFM"
   ]
  },
  {
   "cell_type": "code",
   "execution_count": 25,
   "id": "c71489a9f1d8a7f8",
   "metadata": {
    "ExecuteTime": {
     "end_time": "2024-12-03T15:11:55.556575Z",
     "start_time": "2024-12-03T15:11:55.462160Z"
    }
   },
   "outputs": [
    {
     "name": "stdout",
     "output_type": "stream",
     "text": [
      "\n",
      "Calculating RFM Values...\n",
      "\n",
      "RFM Data:\n",
      "        CardID  Recency  Frequency  Monetary\n",
      "0  C0100000199        1          3    597.00\n",
      "1  C0100000343      114          6    700.94\n",
      "2  C0100000375       59          4    223.98\n",
      "3  C0100000482       20          4    197.98\n",
      "4  C0100000689        4          2    428.00\n"
     ]
    }
   ],
   "source": [
    "# RFM Calculation\n",
    "print(\"\\nCalculating RFM Values...\")\n",
    "\n",
    "# 1. Recency (Days since last purchase)\n",
    "transactions['Date'] = pd.to_datetime(transactions['Date'].astype(str), format='%Y%m%d')\n",
    "latest_date = transactions['Date'].max()\n",
    "transactions['Recency'] = (pd.to_datetime(latest_date) - pd.to_datetime(transactions['Date'])).dt.days\n",
    "recency_df = transactions.groupby('CardID')['Recency'].min().reset_index()\n",
    "\n",
    "# 2. Frequency (Number of purchases)\n",
    "frequency_df = transactions.groupby('CardID')['Date'].count().reset_index()\n",
    "frequency_df.columns = ['CardID', 'Frequency']\n",
    "\n",
    "# 3. Monetary (Total amount spent)\n",
    "monetary_df = transactions.groupby('CardID')['Amount'].sum().reset_index()\n",
    "monetary_df.columns = ['CardID', 'Monetary']\n",
    "\n",
    "# Merge RFM data\n",
    "rfm = recency_df.merge(frequency_df, on='CardID').merge(monetary_df, on='CardID')\n",
    "\n",
    "print(\"\\nRFM Data:\")\n",
    "print(rfm.head())\n",
    "\n"
   ]
  },
  {
   "cell_type": "code",
   "execution_count": 26,
   "id": "2c56064e",
   "metadata": {
    "pycharm": {
     "name": "#%%\n"
    }
   },
   "outputs": [
    {
     "name": "stdout",
     "output_type": "stream",
     "text": [
      "            CardID  R_Score  F_Score  M_Score RFM_Segment     Segment\n",
      "0      C0100000199        5        2        4         524       Other\n",
      "1      C0100000343        2        5        5         255       Other\n",
      "2      C0100000375        3        3        2         332       Other\n",
      "3      C0100000482        4        3        2         432       Other\n",
      "4      C0100000689        5        1        4         514       Other\n",
      "...            ...      ...      ...      ...         ...         ...\n",
      "12584  C0106595162        2        1        3         213       Other\n",
      "12585  C0106596136        5        1        1         511  Apprentice\n",
      "12586  C0106596422        2        1        5         215       Other\n",
      "12587  C0106596502        4        1        2         412       Other\n",
      "12588  C0106596676        2        4        3         243       Other\n",
      "\n",
      "[12589 rows x 6 columns]\n",
      "Other         10847\n",
      "Lovers          833\n",
      "Soulmates       610\n",
      "Apprentice      220\n",
      "Ex-Lovers        79\n",
      "Name: Segment, dtype: int64\n"
     ]
    }
   ],
   "source": [
    "# Scoring RFM values based on quintiles\n",
    "rfm['R_Score'] = pd.qcut(rfm['Recency'], 5, labels=[5, 4, 3, 2, 1]).astype(int)\n",
    "rfm['F_Score'] = pd.qcut(rfm['Frequency'], 5, labels=[1, 2, 3, 4, 5]).astype(int)\n",
    "rfm['M_Score'] = pd.qcut(rfm['Monetary'], 5, labels=[1, 2, 3, 4, 5]).astype(int)\n",
    "\n",
    "# Combine RFM scores into a single segment code\n",
    "rfm['RFM_Segment'] = rfm['R_Score'].astype(str) + rfm['F_Score'].astype(str) + rfm['M_Score'].astype(str)\n",
    "\n",
    "# Assigning customer segments based on RFM segments\n",
    "def assign_segment(row):\n",
    "    if row['RFM_Segment'] == '555':\n",
    "        return 'Soulmates'\n",
    "    elif row['R_Score'] == 1 and row['F_Score'] == 5 and row['M_Score'] == 5:\n",
    "        return 'Ex-Lovers'\n",
    "    elif row['R_Score'] == 5 and row['F_Score'] == 1 and row['M_Score'] == 1:\n",
    "        return 'Apprentice'\n",
    "    elif row['F_Score'] >= 4 and row['M_Score'] >= 4 and row['R_Score'] >= 4:\n",
    "        return 'Lovers'\n",
    "    else:\n",
    "        return 'Other'\n",
    "\n",
    "rfm['Segment'] = rfm.apply(assign_segment, axis=1)\n",
    "\n",
    "# Display the processed RFM table\n",
    "rfm_display = rfm[['CardID', 'R_Score', 'F_Score', 'M_Score', 'RFM_Segment', 'Segment']]\n",
    "rfm_display.to_csv(\"processed_rfm_table.csv\", index=False)  # Save the table as a CSV file\n",
    "rfm_display.head()  # Display the first few rows in the notebook\n",
    "\n",
    "print(rfm_display)\n",
    "\n",
    "# Count occurrences of each unique value in the 'Segment' column\n",
    "segment_counts = rfm_display['Segment'].value_counts()\n",
    "\n",
    "# Print the counts\n",
    "print(segment_counts)"
   ]
  },
  {
   "cell_type": "markdown",
   "id": "53e28c7d",
   "metadata": {},
   "source": [
    "Do souboru processed_rfm_table.csv je uložená RFM analýza provedena dle článku přiloženého v zadání úlohy (Jackson, „Effective Customer Segmentation Through RFM Analysis“, 2024). Jak je výše patrné tak většina uživatelů nezapadá do žádné kategorie stavené článkem, dále nejpočetnější jsou kategorie „Lovers“ (833 záznamů) a „Soulmates“ (610 záznamů)."
   ]
  },
  {
   "cell_type": "markdown",
   "id": "79dab958",
   "metadata": {},
   "source": [
    "# Segmentace pomocí KMeans"
   ]
  },
  {
   "cell_type": "code",
   "execution_count": 27,
   "id": "ad96afc2",
   "metadata": {
    "pycharm": {
     "name": "#%%\n"
    }
   },
   "outputs": [
    {
     "name": "stdout",
     "output_type": "stream",
     "text": [
      "Cluster Descriptions:\n",
      "   Cluster     Recency  Frequency     Monetary MaritalStatus  NumChildren  \\\n",
      "0        0   48.220174   3.310466   323.191985             M     1.134355   \n",
      "1        1  207.275886   2.976483   259.319849             M     1.155493   \n",
      "2        2   42.176787  23.420446   835.798155             S     1.082244   \n",
      "3        3   57.510818   5.500470  1116.118344             S     1.082785   \n",
      "\n",
      "        LoS   HHIncomeMed  \n",
      "0  1.184302  58227.240110  \n",
      "1  1.455661  57330.277533  \n",
      "2  1.323172  63817.657465  \n",
      "3  1.389435  55463.201927  \n"
     ]
    }
   ],
   "source": [
    "# Perform clustering analysis on RFM data\n",
    "\n",
    "\n",
    "# Scale RFM values\n",
    "scaler = StandardScaler()\n",
    "rfm_scaled = scaler.fit_transform(rfm[['Recency', 'Frequency', 'Monetary']])\n",
    "\n",
    "# Apply KMeans clustering\n",
    "kmeans = KMeans(n_clusters=4, random_state=42)\n",
    "rfm['Cluster'] = kmeans.fit_predict(rfm_scaled)\n",
    "\n",
    "# Merge with customers dataset for detailed cluster analysis\n",
    "clustered_data = rfm.merge(customers, on='CardID')\n",
    "\n",
    "# Summarize cluster characteristics\n",
    "cluster_descriptions = clustered_data.groupby('Cluster').agg({\n",
    "    'Recency': 'mean',\n",
    "    'Frequency': 'mean',\n",
    "    'Monetary': 'mean',\n",
    "    'MaritalStatus': lambda x: x.value_counts().idxmax(),\n",
    "    'NumChildren': 'mean',\n",
    "    'LoS': 'mean',\n",
    "    'HHIncomeMed': 'mean'\n",
    "}).reset_index()\n",
    "\n",
    "# Print cluster descriptions\n",
    "print(\"Cluster Descriptions:\")\n",
    "print(cluster_descriptions)"
   ]
  },
  {
   "cell_type": "markdown",
   "id": "62952270",
   "metadata": {},
   "source": [
    "# Shluková analýza a závěry\n",
    "\n",
    "## Popisy klastrů\n",
    "\n",
    "### **Klastr 0**\n",
    "- **Recence**: Zákazníci mají středně dlouhou dobu od posledního nákupu (v průměru 48 dní).\n",
    "- **Frekvence**: Relativně nízká frekvence nákupů (v průměru 3,3 nákupu).\n",
    "- **Monetární**: Průměrná výše útraty: 323 USD.\n",
    "- **Demografické údaje**:\n",
    "  - **Rodinný stav**: Převážně ženatí zákazníci.\n",
    "  - **Počet dětí**: Nízký průměrný počet dětí (~1,13).\n",
    "  - **LoS**: Relativně krátký, přibližně 1,18 roku.\n",
    "  - **Příjem domácnosti (HHIncomeMed)**: Medián příjmu domácnosti je ~58 227 USD.\n",
    "\n",
    "### **Klastr 1**\n",
    "- **Doba trvání**: Dlouhá doba trvání (207 dní), což naznačuje, že zákazníci již nejsou mezi námi.\n",
    "- **Frekvence**: Nízká frekvence nákupů (průměrně 2,97 nákupu).\n",
    "- **Monetární**: Nízké výdaje s průměrnou hodnotou 259 USD.\n",
    "- **Demografické údaje**:\n",
    "  - **Rodinný stav**: Převážně ženatí zákazníci.\n",
    "  - **Počet dětí**: V průměru o něco více dětí (~1,16).\n",
    "  - **LoS**: Relativně delší pobyt, přibližně 1,46 roku.\n",
    "  - **Příjem domácnosti (HHIncomeMed)**: Mírně nižší průměrný příjem ~57 330 USD.\n",
    "\n",
    "### **Klastr 2**\n",
    "- **Doba trvání**: Velmi čerství kupující (42 dní).\n",
    "- **Frekvence**: Vysoká frekvence nákupů (23,4 nákupů).\n",
    "- **Peněžní**: Velmi vysoké výdaje s průměrnou částkou 835 USD.\n",
    "- **Demografické údaje**:\n",
    "  - **Rodinný stav**: Převážně svobodní zákazníci.\n",
    "  - **Počet dětí**: Málo dětí (~1,08).\n",
    "  - **LoS**: Mírný pobyt 1,32 roku.\n",
    "  - **Příjem domácnosti (HHIncomeMed)**: Vyšší mediánový příjem ~63 818 USD.\n",
    "### **Klastr 3**\n",
    "- **Recence**: Středně noví kupující (57 dní).\n",
    "- **Frekvence**: Střední frekvence nákupů (5,5 nákupu).\n",
    "- **Monetární**: Nejvíce utrácející s průměrnou částkou 1 116 USD.\n",
    "- **Demografické údaje**:\n",
    "  - **Rodinný stav**: Převážně svobodní zákazníci.\n",
    "  - **Počet dětí**: Málo dětí (~1,08).\n",
    "  - **LoS**: Mírný pobyt 1,39 roku.\n",
    "  - **Příjem domácnosti (HHIncomeMed)**: Nejnižší mediánový příjem (~55 463 USD).\n",
    "\n",
    "---\n",
    "\n",
    "## Poznatky a využitelné závěry\n",
    "\n",
    "### **Klastr 0 (mírné zapojení, mírná útrata)**\n",
    "- **Popis**: Tito zákazníci jsou stálými, ale ne častými zákazníky. Utrácejí střídmě a mají tendenci být ženatí s mírně vyššími příjmy.\n",
    "- **Akce**: Zaměřte se na ně pomocí věrnostních kampaní a exkluzivních slev, abyste podpořili vyšší útratu a četnost.\n",
    "\n",
    "### **Klastr 1 (již neplatící, málá útrata)**\n",
    "- **Popis**: Jedná se o zákazníky s nízkou frekvencí a útratou. Jsou to především ženatí a vdané s mírně vyšší délkou pobytu, ale nižšími příjmy.\n",
    "- **Akce**: Použijte kampaně pro opětovné zapojení s personalizovanými nabídkami nebo upomínkami. Zdůrazněte produkty orientované na hodnotu, abyste oslovili jejich nižší výdajové zvyklosti.\n",
    "\n",
    "### **Klastr 2 (vysoká frekvence, vysoká útrata)**\n",
    "\n",
    "- **Popis**: Jedná se o vaše nejlepší zákazníky s vysokou útratou a frekvencí. Jsou převážně svobodní, s vyššími příjmy domácnosti a střední délkou pobytu.\n",
    "- **Akce**: Udržení je klíčové - nabídněte VIP výhody, dřívější přístup k produktům nebo exkluzivní propagační akce, abyste si udrželi angažovanost.Tuto skupinu lze také využít k pilotnímu ověření nových produktů nebo služeb.\n",
    "\n",
    "### **Klastr 3 (vysoká útrata, střední frekvence)**\n",
    "- **Popis**: Lidé s vysokými výdaji a střední frekvencí, převážně svobodní a s nejnižším příjmem domácnosti mezi shluky.\n",
    "- **Akce**: Zaměřte se na křížový prodej a upselling.\n",
    "Poskytněte doporučení prémiových produktů nebo předplacených služeb, abyste využili jejich vysokou peněžní hodnotu.\n",
    "\n",
    "---\n",
    "\n",
    "## Celkové závěry\n",
    "\n",
    "### **Demografické vzorce**\n",
    "- Ženatí zákazníci (shluky 0 a 1) mají tendenci utrácet méně a zapojovat se méně často ve srovnání se svobodnými zákazníky (shluky 2 a 3).\n",
    "- U svobodných zákazníků je větší pravděpodobnost, že budou nakupovat s vysokou hodnotou, vyššími výdaji a vyšší četností.\n",
    "### **Strategie zapojení**\n",
    "- Diferencujte kampaně pro zákazníky, kteří již nenakupují (shluk 1), a zákazníky s vysokou hodnotou (shluk 2 a 3).\n",
    "- Využijte vzorce příjmů a výdajů k přizpůsobení nabídek - prémiové produkty pro zákazníky s vysokými příjmy a vysokou frekvencí a slevy nebo balíčky pro skupiny s nižšími příjmy.\n",
    "\n",
    "### **Zaměření na udržení**\n",
    "\n",
    "- Klastry 2 a 3 by měly být vzhledem k vysokým výdajům a četnosti prioritami pro udržení.\n",
    "- Klastry 0 a 1 vyžadují úsilí o zvýšení angažovanosti a výdajů s personalizovanými strategiemi, které odpovídají jejich demografickým charakteristikám."
   ]
  }
 ],
 "metadata": {
  "kernelspec": {
   "display_name": "Python 3",
   "language": "python",
   "name": "python3"
  },
  "language_info": {
   "codemirror_mode": {
    "name": "ipython",
    "version": 3
   },
   "file_extension": ".py",
   "mimetype": "text/x-python",
   "name": "python",
   "nbconvert_exporter": "python",
   "pygments_lexer": "ipython3",
   "version": "3.6.7"
  }
 },
 "nbformat": 4,
 "nbformat_minor": 5
}
